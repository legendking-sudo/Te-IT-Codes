{
 "cells": [
  {
   "cell_type": "code",
   "execution_count": 1,
   "id": "1e17eba7-17ed-4c08-991c-f5ee07d183bf",
   "metadata": {},
   "outputs": [],
   "source": [
    "from tensorflow.keras.models import Sequential\n",
    "from tensorflow.keras.layers import Dense\n",
    "import pandas as pd\n",
    "from keras_visualizer import visualizer\n",
    "from keras import models, layers\n",
    "from keras.callbacks import EarlyStopping\n",
    "from sklearn.model_selection import train_test_split\n",
    "from sklearn.preprocessing import StandardScaler\n",
    "import numpy as np\n",
    "\n",
    "import warnings\n",
    "warnings.filterwarnings('ignore')"
   ]
  },
  {
   "cell_type": "code",
   "execution_count": 2,
   "id": "e2e38a12-5af9-4ac1-a3c7-e93bb805f26c",
   "metadata": {},
   "outputs": [],
   "source": [
    "df = pd.read_csv('diabetes.csv')"
   ]
  },
  {
   "cell_type": "code",
   "execution_count": 3,
   "id": "4294a759-f0a6-4754-8e55-a4f155ef3d9f",
   "metadata": {},
   "outputs": [
    {
     "name": "stdout",
     "output_type": "stream",
     "text": [
      "<class 'pandas.core.frame.DataFrame'>\n",
      "RangeIndex: 768 entries, 0 to 767\n",
      "Data columns (total 9 columns):\n",
      " #   Column                    Non-Null Count  Dtype  \n",
      "---  ------                    --------------  -----  \n",
      " 0   Pregnancies               768 non-null    int64  \n",
      " 1   Glucose                   768 non-null    int64  \n",
      " 2   BloodPressure             768 non-null    int64  \n",
      " 3   SkinThickness             768 non-null    int64  \n",
      " 4   Insulin                   768 non-null    int64  \n",
      " 5   BMI                       768 non-null    float64\n",
      " 6   DiabetesPedigreeFunction  768 non-null    float64\n",
      " 7   Age                       768 non-null    int64  \n",
      " 8   Outcome                   768 non-null    int64  \n",
      "dtypes: float64(2), int64(7)\n",
      "memory usage: 54.1 KB\n"
     ]
    }
   ],
   "source": [
    "df.info()"
   ]
  },
  {
   "cell_type": "code",
   "execution_count": 4,
   "id": "dc74fbd7-6de2-4542-8a2b-c1c43583720c",
   "metadata": {},
   "outputs": [
    {
     "name": "stdout",
     "output_type": "stream",
     "text": [
      "Epoch 1/100\n",
      "\u001b[1m62/62\u001b[0m \u001b[32m━━━━━━━━━━━━━━━━━━━━\u001b[0m\u001b[37m\u001b[0m \u001b[1m4s\u001b[0m 12ms/step - accuracy: 0.6444 - loss: 0.6556 - val_accuracy: 0.6104 - val_loss: 0.6803\n",
      "Epoch 2/100\n",
      "\u001b[1m62/62\u001b[0m \u001b[32m━━━━━━━━━━━━━━━━━━━━\u001b[0m\u001b[37m\u001b[0m \u001b[1m1s\u001b[0m 4ms/step - accuracy: 0.6907 - loss: 0.6163 - val_accuracy: 0.6494 - val_loss: 0.6277\n",
      "Epoch 3/100\n",
      "\u001b[1m62/62\u001b[0m \u001b[32m━━━━━━━━━━━━━━━━━━━━\u001b[0m\u001b[37m\u001b[0m \u001b[1m0s\u001b[0m 4ms/step - accuracy: 0.7202 - loss: 0.5693 - val_accuracy: 0.6883 - val_loss: 0.5871\n",
      "Epoch 4/100\n",
      "\u001b[1m62/62\u001b[0m \u001b[32m━━━━━━━━━━━━━━━━━━━━\u001b[0m\u001b[37m\u001b[0m \u001b[1m0s\u001b[0m 4ms/step - accuracy: 0.7497 - loss: 0.5210 - val_accuracy: 0.7403 - val_loss: 0.5612\n",
      "Epoch 5/100\n",
      "\u001b[1m62/62\u001b[0m \u001b[32m━━━━━━━━━━━━━━━━━━━━\u001b[0m\u001b[37m\u001b[0m \u001b[1m0s\u001b[0m 4ms/step - accuracy: 0.7915 - loss: 0.4877 - val_accuracy: 0.7273 - val_loss: 0.5458\n",
      "Epoch 6/100\n",
      "\u001b[1m62/62\u001b[0m \u001b[32m━━━━━━━━━━━━━━━━━━━━\u001b[0m\u001b[37m\u001b[0m \u001b[1m0s\u001b[0m 4ms/step - accuracy: 0.7354 - loss: 0.5087 - val_accuracy: 0.7403 - val_loss: 0.5381\n",
      "Epoch 7/100\n",
      "\u001b[1m62/62\u001b[0m \u001b[32m━━━━━━━━━━━━━━━━━━━━\u001b[0m\u001b[37m\u001b[0m \u001b[1m0s\u001b[0m 4ms/step - accuracy: 0.7559 - loss: 0.4868 - val_accuracy: 0.7338 - val_loss: 0.5323\n",
      "Epoch 8/100\n",
      "\u001b[1m62/62\u001b[0m \u001b[32m━━━━━━━━━━━━━━━━━━━━\u001b[0m\u001b[37m\u001b[0m \u001b[1m0s\u001b[0m 4ms/step - accuracy: 0.7722 - loss: 0.4496 - val_accuracy: 0.7468 - val_loss: 0.5295\n",
      "Epoch 9/100\n",
      "\u001b[1m62/62\u001b[0m \u001b[32m━━━━━━━━━━━━━━━━━━━━\u001b[0m\u001b[37m\u001b[0m \u001b[1m0s\u001b[0m 4ms/step - accuracy: 0.7930 - loss: 0.4344 - val_accuracy: 0.7468 - val_loss: 0.5277\n",
      "Epoch 10/100\n",
      "\u001b[1m62/62\u001b[0m \u001b[32m━━━━━━━━━━━━━━━━━━━━\u001b[0m\u001b[37m\u001b[0m \u001b[1m0s\u001b[0m 4ms/step - accuracy: 0.7864 - loss: 0.4472 - val_accuracy: 0.7532 - val_loss: 0.5257\n",
      "Epoch 11/100\n",
      "\u001b[1m62/62\u001b[0m \u001b[32m━━━━━━━━━━━━━━━━━━━━\u001b[0m\u001b[37m\u001b[0m \u001b[1m0s\u001b[0m 4ms/step - accuracy: 0.7768 - loss: 0.4481 - val_accuracy: 0.7597 - val_loss: 0.5269\n",
      "Epoch 12/100\n",
      "\u001b[1m62/62\u001b[0m \u001b[32m━━━━━━━━━━━━━━━━━━━━\u001b[0m\u001b[37m\u001b[0m \u001b[1m0s\u001b[0m 3ms/step - accuracy: 0.8110 - loss: 0.4075 - val_accuracy: 0.7532 - val_loss: 0.5275\n",
      "Epoch 13/100\n",
      "\u001b[1m62/62\u001b[0m \u001b[32m━━━━━━━━━━━━━━━━━━━━\u001b[0m\u001b[37m\u001b[0m \u001b[1m0s\u001b[0m 3ms/step - accuracy: 0.7864 - loss: 0.4503 - val_accuracy: 0.7468 - val_loss: 0.5289\n",
      "Epoch 14/100\n",
      "\u001b[1m62/62\u001b[0m \u001b[32m━━━━━━━━━━━━━━━━━━━━\u001b[0m\u001b[37m\u001b[0m \u001b[1m0s\u001b[0m 3ms/step - accuracy: 0.7801 - loss: 0.4349 - val_accuracy: 0.7468 - val_loss: 0.5283\n",
      "Epoch 15/100\n",
      "\u001b[1m62/62\u001b[0m \u001b[32m━━━━━━━━━━━━━━━━━━━━\u001b[0m\u001b[37m\u001b[0m \u001b[1m0s\u001b[0m 4ms/step - accuracy: 0.7810 - loss: 0.4361 - val_accuracy: 0.7532 - val_loss: 0.5292\n"
     ]
    },
    {
     "data": {
      "text/plain": [
       "<keras.src.callbacks.history.History at 0x2a3708c56a0>"
      ]
     },
     "execution_count": 4,
     "metadata": {},
     "output_type": "execute_result"
    }
   ],
   "source": [
    "# Example columns: ['Pregnancies', 'Glucose', 'BloodPressure', 'SkinThickness', \n",
    "# 'Insulin', 'BMI', 'DiabetesPedigreeFunction', 'Age', 'Outcome']\n",
    "# Split data into features and labels\n",
    "X = df.iloc[:, :-1].values  # Features (all columns except the last one)\n",
    "y = df.iloc[:, -1].values   # Labels (last column)\n",
    "\n",
    "# Scale features for better model performance\n",
    "scaler = StandardScaler()\n",
    "X = scaler.fit_transform(X)\n",
    "\n",
    "# Split data into training and validation sets\n",
    "X_train, X_val, y_train, y_val = train_test_split(X, y, test_size=0.2, random_state=42)\n",
    "\n",
    "# Define the model\n",
    "model = Sequential()\n",
    "model.add(Dense(12, input_dim=X.shape[1], activation='relu'))  # Number of input features = X.shape[1]\n",
    "model.add(Dense(8, activation='relu'))\n",
    "model.add(Dense(1, activation='sigmoid'))  # Sigmoid for binary classification\n",
    "\n",
    "# Compile the model\n",
    "model.compile(loss='binary_crossentropy', optimizer='adam', metrics=['accuracy'])\n",
    "\n",
    "# Early stopping to prevent overfitting\n",
    "early_stopping = EarlyStopping(monitor='val_loss', patience=5, restore_best_weights=True)\n",
    "\n",
    "# Train model\n",
    "model.fit(X_train, y_train, validation_data=(X_val, y_val), epochs=100, batch_size=10, callbacks=[early_stopping])"
   ]
  },
  {
   "cell_type": "code",
   "execution_count": 5,
   "id": "76a3e34f-cc47-4606-96cb-3518553a0836",
   "metadata": {},
   "outputs": [],
   "source": [
    "visualizer(model, file_format='png', view=True)"
   ]
  },
  {
   "cell_type": "code",
   "execution_count": 6,
   "id": "d3ea0e06-efa8-4848-aa11-4587bb3eee53",
   "metadata": {},
   "outputs": [
    {
     "name": "stdout",
     "output_type": "stream",
     "text": [
      "Training Accuracy: 78.01%\n",
      "Training Error: 21.99%\n",
      "Testing Accuracy: 75.32%\n",
      "Testing Error: 24.68%\n"
     ]
    }
   ],
   "source": [
    "# Evaluate the model on the training set\n",
    "_, train_accuracy = model.evaluate(X_train, y_train, verbose=0)  # Set verbose=0 to suppress output\n",
    "train_error = 1 - train_accuracy\n",
    "\n",
    "# Evaluate the model on the validation/testing set\n",
    "_, test_accuracy = model.evaluate(X_val, y_val, verbose=0)\n",
    "test_error = 1 - test_accuracy\n",
    "\n",
    "# Print the results\n",
    "print(f'Training Accuracy: {train_accuracy * 100:.2f}%')\n",
    "print(f'Training Error: {train_error * 100:.2f}%')\n",
    "\n",
    "print(f'Testing Accuracy: {test_accuracy * 100:.2f}%')\n",
    "print(f'Testing Error: {test_error * 100:.2f}%')"
   ]
  },
  {
   "cell_type": "code",
   "execution_count": 7,
   "id": "ebc1d9cf-c56e-4734-a094-16b3602c5d4e",
   "metadata": {},
   "outputs": [
    {
     "name": "stdout",
     "output_type": "stream",
     "text": [
      "Please enter the following details:\n"
     ]
    },
    {
     "name": "stdin",
     "output_type": "stream",
     "text": [
      "Number of pregnancies:  7\n",
      "Glucose level:  56\n",
      "Blood pressure:  89\n",
      "Skin thickness:  5\n",
      "Insulin level:  6\n",
      "BMI:  20\n",
      "Diabetes Pedigree Function:  5\n",
      "Age:  56\n"
     ]
    },
    {
     "name": "stdout",
     "output_type": "stream",
     "text": [
      "\u001b[1m1/1\u001b[0m \u001b[32m━━━━━━━━━━━━━━━━━━━━\u001b[0m\u001b[37m\u001b[0m \u001b[1m0s\u001b[0m 119ms/step\n",
      "The model predicts that you are not diabetic.\n"
     ]
    }
   ],
   "source": [
    "# Function to get user input\n",
    "def get_user_input():\n",
    "    print(\"Please enter the following details:\")\n",
    "    pregnancies = float(input(\"Number of pregnancies: \"))\n",
    "    glucose = float(input(\"Glucose level: \"))\n",
    "    blood_pressure = float(input(\"Blood pressure: \"))\n",
    "    skin_thickness = float(input(\"Skin thickness: \"))\n",
    "    insulin = float(input(\"Insulin level: \"))\n",
    "    bmi = float(input(\"BMI: \"))\n",
    "    diabetes_pedigree = float(input(\"Diabetes Pedigree Function: \"))\n",
    "    age = float(input(\"Age: \"))\n",
    "    \n",
    "    # Store inputs in a NumPy array and scale it using the same scaler used for training\n",
    "    user_data = np.array([[pregnancies, glucose, blood_pressure, skin_thickness, \n",
    "                           insulin, bmi, diabetes_pedigree, age]])\n",
    "    user_data = scaler.transform(user_data)  # Scale the input\n",
    "    return user_data\n",
    "\n",
    "# Predict whether the user is diabetic or not\n",
    "def predict_diabetes():\n",
    "    user_data = get_user_input()\n",
    "    prediction = model.predict(user_data)\n",
    "    \n",
    "    # Sigmoid output gives a probability, so we threshold at 0.5\n",
    "    if prediction >= 0.5:\n",
    "        print(\"The model predicts that you are diabetic.\")\n",
    "    else:\n",
    "        print(\"The model predicts that you are not diabetic.\")\n",
    "\n",
    "# Call the prediction function\n",
    "predict_diabetes()"
   ]
  },
  {
   "cell_type": "code",
   "execution_count": null,
   "id": "c77e0d64-5db6-48cc-b7ef-27e1f071ad4b",
   "metadata": {},
   "outputs": [],
   "source": []
  }
 ],
 "metadata": {
  "kernelspec": {
   "display_name": "Python 3 (ipykernel)",
   "language": "python",
   "name": "python3"
  },
  "language_info": {
   "codemirror_mode": {
    "name": "ipython",
    "version": 3
   },
   "file_extension": ".py",
   "mimetype": "text/x-python",
   "name": "python",
   "nbconvert_exporter": "python",
   "pygments_lexer": "ipython3",
   "version": "3.12.4"
  }
 },
 "nbformat": 4,
 "nbformat_minor": 5
}
